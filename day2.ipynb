{
 "cells": [
  {
   "cell_type": "code",
   "execution_count": 2,
   "metadata": {},
   "outputs": [
    {
     "name": "stdout",
     "output_type": "stream",
     "text": [
      "{'s': [1, 2, 3, 4], 'd': [1, 2, 3, 4], 'w': [1, 2, 3, 4]}\n"
     ]
    }
   ],
   "source": [
    "l = [1, 2, 3, 4]\n",
    "s = [\"s\", \"d\", \"w\"]\n",
    "output_dict = {key: l for key in s}\n",
    "\n",
    "print(output_dict)\n"
   ]
  },
  {
   "cell_type": "code",
   "execution_count": 19,
   "metadata": {},
   "outputs": [
    {
     "name": "stdout",
     "output_type": "stream",
     "text": [
      "[7, 15, 23, 31, 39, 47, 55, 63, 71, 79, 87, 95, 103, 111, 119, 127, 135, 143, 151, 159]\n"
     ]
    }
   ],
   "source": [
    "\n",
    "n = 7\n",
    "d= 8\n",
    "num_series = [n + i * d for i in range(20)]\n",
    "series = [num for num in num_series if num not in (11, 12, 13)]\n",
    "print(series)\n"
   ]
  },
  {
   "cell_type": "markdown",
   "metadata": {},
   "source": [
    "### Prime number"
   ]
  },
  {
   "cell_type": "code",
   "execution_count": 4,
   "metadata": {},
   "outputs": [
    {
     "name": "stdout",
     "output_type": "stream",
     "text": [
      "2\n",
      "3\n",
      "5\n",
      "7\n",
      "11\n",
      "13\n",
      "17\n",
      "19\n",
      "23\n",
      "29\n",
      "31\n",
      "37\n",
      "41\n",
      "43\n",
      "47\n",
      "53\n",
      "59\n",
      "61\n",
      "67\n",
      "71\n",
      "73\n",
      "79\n",
      "83\n",
      "89\n",
      "97\n"
     ]
    }
   ],
   "source": [
    "n=int(input(\"Enter:\"))\n",
    "for number in range (1, n+ 1):  \n",
    "    if number > 1:  \n",
    "        for i in range (2, number):  \n",
    "            if (number % i) == 0:  \n",
    "                break  \n",
    "        else:  \n",
    "            print (number)"
   ]
  },
  {
   "cell_type": "markdown",
   "metadata": {},
   "source": [
    "### Len of the list without build in function"
   ]
  },
  {
   "cell_type": "code",
   "execution_count": 6,
   "metadata": {},
   "outputs": [
    {
     "name": "stdout",
     "output_type": "stream",
     "text": [
      "Length of list  :  6\n"
     ]
    }
   ],
   "source": [
    "List2 = [3,6,9,1,5,7] \n",
    "counter = 0\n",
    "for i in List2 :\n",
    "    counter = counter + 1\n",
    "print(\"Length of list  : \" ,counter)"
   ]
  },
  {
   "cell_type": "markdown",
   "metadata": {},
   "source": [
    "### List1=[22,45,”python”,21,”sample”] . \n",
    "Add 20 in the above list and sum all the integers in the list without using the sum function.\n"
   ]
  },
  {
   "cell_type": "code",
   "execution_count": 18,
   "metadata": {},
   "outputs": [
    {
     "name": "stdout",
     "output_type": "stream",
     "text": [
      "[22, 45, 'python', 21, 'sample', 20]\n",
      "Sum of all elements in a given list:  108\n"
     ]
    }
   ],
   "source": [
    "list1=[22,45, \"python\" , 21,\"sample\"]\n",
    "list1.append(20)\n",
    "print(list1)\n",
    "total = 0 \n",
    "for i in range(0, len(list1)): \n",
    "  if type(list1[i])==int:\n",
    "   total = total + list1[i] \n",
    " \n",
    "print(\"Sum of all elements in a given list: \", total)"
   ]
  },
  {
   "cell_type": "code",
   "execution_count": 35,
   "metadata": {},
   "outputs": [
    {
     "name": "stdout",
     "output_type": "stream",
     "text": [
      "Number: 2\n",
      "String: 5\n"
     ]
    }
   ],
   "source": [
    "strings=input(\"enter:\")\n",
    "count=0\n",
    "count1=0\n",
    "for i in strings:\n",
    "    if i.isdigit():\n",
    "        count=count+1       \n",
    "    else:\n",
    "        count1=count1+1\n",
    "        \n",
    "print(\"Number:\",count)\n",
    "print(\"String:\",count1)"
   ]
  },
  {
   "cell_type": "code",
   "execution_count": 1,
   "metadata": {},
   "outputs": [
    {
     "name": "stdout",
     "output_type": "stream",
     "text": [
      "[55, 'ABC']\n"
     ]
    }
   ],
   "source": [
    "a=[10,12,13,\"A\",\"B\",\"C\"]\n",
    "a.append(20)\n",
    "total=0\n",
    "s=''\n",
    "lst=[]\n",
    "for i in a:\n",
    "    if type(i)==int:\n",
    "        total=total+i\n",
    "    elif type(i)==str:\n",
    "        s+=i\n",
    "   \n",
    "lst.append(total)\n",
    "lst.append(s)\n",
    "print(lst)\n",
    "\n"
   ]
  },
  {
   "cell_type": "code",
   "execution_count": 33,
   "metadata": {},
   "outputs": [
    {
     "name": "stdout",
     "output_type": "stream",
     "text": [
      "[75, 150, 145]\n"
     ]
    }
   ],
   "source": [
    "n=[12,75,150,180,145,525,50]\n",
    "lst=[]\n",
    "for i in n:\n",
    "    if (i>500):\n",
    "        break\n",
    "    elif (i%5==0):\n",
    "        if(i<=150):\n",
    "            lst.append(i)\n",
    "print(lst)\n",
    "\n",
    "\n",
    "\n",
    "   "
   ]
  },
  {
   "cell_type": "code",
   "execution_count": 44,
   "metadata": {},
   "outputs": [
    {
     "name": "stdout",
     "output_type": "stream",
     "text": [
      "[50, 525, 145, 150, 75, 12]\n"
     ]
    }
   ],
   "source": [
    "\n",
    "\n",
    "n= [12,75,150,145,525,50]\n",
    "index = len(n) - 1\n",
    "rev = [n[i] for i in range(index, -1, -1)]\n",
    "print(rev)"
   ]
  },
  {
   "cell_type": "code",
   "execution_count": 46,
   "metadata": {},
   "outputs": [
    {
     "data": {
      "text/plain": [
       "'amma'"
      ]
     },
     "execution_count": 46,
     "metadata": {},
     "output_type": "execute_result"
    }
   ],
   "source": [
    "str=\"amma\"\n",
    "str[::-1]\n"
   ]
  },
  {
   "cell_type": "code",
   "execution_count": 41,
   "metadata": {},
   "outputs": [
    {
     "name": "stdout",
     "output_type": "stream",
     "text": [
      "need capital\n",
      "Need Special Character\n"
     ]
    }
   ],
   "source": [
    "password=input(\"Enter:\")\n",
    "upper=0\n",
    "lower=0\n",
    "num=0\n",
    "spl=0\n",
    "l=[]\n",
    "if (len(password)==10):\n",
    "    for i in password:\n",
    "        if i.isupper():\n",
    "           upper+=1\n",
    "        if i.islower():\n",
    "           lower+=1\n",
    "        if i.isdigit():\n",
    "           num+=1\n",
    "        if i in ['@','*','%','$']:\n",
    "           spl+=1\n",
    "    if upper==0:\n",
    "       l.append(\"need capital\")\n",
    "    if lower==0:\n",
    "        l.append(\"Need lower\")\n",
    "    if  num==0:\n",
    "       l.append(\"Need Number\")\n",
    "    if spl==0:\n",
    "       l.append(\"Need Special Character\")\n",
    "    else:\n",
    "       l.append(\"Valid Password\")        \n",
    "else:\n",
    "    l.append(\"Enter Only 10 Character\")\n",
    "\n",
    "\n",
    "for i in l:\n",
    "   print(i)"
   ]
  },
  {
   "cell_type": "code",
   "execution_count": 2,
   "metadata": {},
   "outputs": [],
   "source": [
    "lst1= [1,2,3,4,5]\n"
   ]
  },
  {
   "cell_type": "code",
   "execution_count": 3,
   "metadata": {},
   "outputs": [
    {
     "data": {
      "text/plain": [
       "1"
      ]
     },
     "execution_count": 3,
     "metadata": {},
     "output_type": "execute_result"
    }
   ],
   "source": [
    "lst1[0]"
   ]
  },
  {
   "cell_type": "code",
   "execution_count": 4,
   "metadata": {},
   "outputs": [
    {
     "data": {
      "text/plain": [
       "3"
      ]
     },
     "execution_count": 4,
     "metadata": {},
     "output_type": "execute_result"
    }
   ],
   "source": [
    "lst1[-3]"
   ]
  },
  {
   "cell_type": "code",
   "execution_count": 5,
   "metadata": {},
   "outputs": [
    {
     "name": "stdout",
     "output_type": "stream",
     "text": [
      "1\n",
      "2\n",
      "3\n",
      "4\n",
      "5\n"
     ]
    }
   ],
   "source": [
    "for i in lst1:\n",
    "    print(i)"
   ]
  },
  {
   "cell_type": "code",
   "execution_count": 6,
   "metadata": {},
   "outputs": [
    {
     "name": "stdout",
     "output_type": "stream",
     "text": [
      "[1, 2, 3, 7, 5]\n"
     ]
    }
   ],
   "source": [
    "lst1[3]=7\n",
    "print(lst1)"
   ]
  },
  {
   "cell_type": "code",
   "execution_count": 83,
   "metadata": {},
   "outputs": [
    {
     "name": "stdout",
     "output_type": "stream",
     "text": [
      "[1, 2, 3, 4, 7, 5, [2, 3, 4], [2, 3, 4]]\n"
     ]
    }
   ],
   "source": [
    "lst1.insert(3,4)\n",
    "print(lst1)"
   ]
  },
  {
   "cell_type": "code",
   "execution_count": 7,
   "metadata": {},
   "outputs": [
    {
     "name": "stdout",
     "output_type": "stream",
     "text": [
      "[1, 2, 3, 7, 5, [2, 3, 4]]\n"
     ]
    }
   ],
   "source": [
    "lst2=[2,3,4]\n",
    "lst1.append(lst2)\n",
    "print(lst1)"
   ]
  },
  {
   "cell_type": "code",
   "execution_count": 8,
   "metadata": {},
   "outputs": [
    {
     "name": "stdout",
     "output_type": "stream",
     "text": [
      "[1, 2, 3, 7, 5, [2, 3, 4], (2, 35, 5)]\n"
     ]
    }
   ],
   "source": [
    "tup=(2,35,5)\n",
    "lst1.append(tup)\n",
    "print(lst1)"
   ]
  },
  {
   "cell_type": "code",
   "execution_count": 10,
   "metadata": {},
   "outputs": [
    {
     "data": {
      "text/plain": [
       "(2, 35, 5)"
      ]
     },
     "execution_count": 10,
     "metadata": {},
     "output_type": "execute_result"
    }
   ],
   "source": [
    "lst1.pop()"
   ]
  },
  {
   "cell_type": "code",
   "execution_count": 11,
   "metadata": {},
   "outputs": [
    {
     "name": "stdout",
     "output_type": "stream",
     "text": [
      "[1, 2, 3, 7, 5, [2, 3, 4]]\n"
     ]
    }
   ],
   "source": [
    "print(lst1)"
   ]
  },
  {
   "cell_type": "code",
   "execution_count": 19,
   "metadata": {},
   "outputs": [],
   "source": [
    "lst1.reverse()"
   ]
  },
  {
   "cell_type": "code",
   "execution_count": 17,
   "metadata": {},
   "outputs": [
    {
     "name": "stdout",
     "output_type": "stream",
     "text": [
      "[1, 2, 3, 7, 5, [2, 3, 4]]\n"
     ]
    }
   ],
   "source": [
    "print(lst1)"
   ]
  },
  {
   "cell_type": "code",
   "execution_count": 20,
   "metadata": {},
   "outputs": [
    {
     "name": "stdout",
     "output_type": "stream",
     "text": [
      "[[2, 3, 4], 5, 7, 3, 2, 1]\n"
     ]
    }
   ],
   "source": [
    "lst2=[]\n",
    "for i in lst1:\n",
    "    lst2.append(i)\n",
    "print(lst2)"
   ]
  },
  {
   "cell_type": "code",
   "execution_count": 21,
   "metadata": {},
   "outputs": [
    {
     "name": "stdout",
     "output_type": "stream",
     "text": [
      "[1, 2, 3, 7, 5, [2, 3, 4]]\n"
     ]
    }
   ],
   "source": [
    "rev=[]\n",
    "for i in lst1:\n",
    "    rev=[i]+rev\n",
    "print(rev)"
   ]
  },
  {
   "cell_type": "code",
   "execution_count": 33,
   "metadata": {},
   "outputs": [
    {
     "name": "stdout",
     "output_type": "stream",
     "text": [
      "PYTHON\n",
      "JAVA\n",
      "ANGULAR\n"
     ]
    }
   ],
   "source": [
    "stri=[\"python\",\"Java\",\"angular\"]\n",
    "for i in stri:\n",
    "    print(i.upper())\n",
    "    \n",
    "    \n"
   ]
  },
  {
   "cell_type": "code",
   "execution_count": 35,
   "metadata": {},
   "outputs": [
    {
     "name": "stdout",
     "output_type": "stream",
     "text": [
      "Python\n",
      "Java\n",
      "Angular\n"
     ]
    }
   ],
   "source": [
    "stri=[\"python\",\"Java\",\"angular\"]\n",
    "for i in stri:\n",
    "    print(i.title())"
   ]
  },
  {
   "cell_type": "code",
   "execution_count": 42,
   "metadata": {},
   "outputs": [],
   "source": [
    "tup1=((1,2,3),(4,5,6),(7,8,9))\n"
   ]
  },
  {
   "cell_type": "code",
   "execution_count": 45,
   "metadata": {},
   "outputs": [
    {
     "name": "stdout",
     "output_type": "stream",
     "text": [
      "((1, 2, 3), (4, 5, 6), (7, 8, 9))\n"
     ]
    }
   ],
   "source": [
    "t1=(1,2,3)\n",
    "t2=(4,5,6)\n",
    "t3=(7,8,9)\n",
    "res=(t1,t2,t3)\n",
    "print(res)"
   ]
  },
  {
   "cell_type": "code",
   "execution_count": 46,
   "metadata": {},
   "outputs": [
    {
     "data": {
      "text/plain": [
       "(1, 2, 3)"
      ]
     },
     "execution_count": 46,
     "metadata": {},
     "output_type": "execute_result"
    }
   ],
   "source": [
    "res[0]"
   ]
  },
  {
   "cell_type": "code",
   "execution_count": 52,
   "metadata": {},
   "outputs": [
    {
     "name": "stdout",
     "output_type": "stream",
     "text": [
      "5\n"
     ]
    }
   ],
   "source": [
    "print(res[1][1])"
   ]
  },
  {
   "cell_type": "code",
   "execution_count": 53,
   "metadata": {},
   "outputs": [
    {
     "name": "stdout",
     "output_type": "stream",
     "text": [
      "((1, 2, 3), (10, 11, 12), (4, 5, 6), (7, 8, 9))\n"
     ]
    }
   ],
   "source": [
    "lsttup=list(res)\n",
    "tp4=(10,11,12)\n",
    "lsttup.insert(1,tp4)\n",
    "res1=tuple(lsttup)\n",
    "print(res1)"
   ]
  },
  {
   "cell_type": "code",
   "execution_count": 57,
   "metadata": {},
   "outputs": [
    {
     "name": "stdout",
     "output_type": "stream",
     "text": [
      "<class 'tuple'>\n"
     ]
    }
   ],
   "source": [
    "tp5=(1,)\n",
    "print(type(tp5))"
   ]
  },
  {
   "cell_type": "code",
   "execution_count": 68,
   "metadata": {},
   "outputs": [
    {
     "data": {
      "text/plain": [
       "dict_values([5, 6, 8])"
      ]
     },
     "execution_count": 68,
     "metadata": {},
     "output_type": "execute_result"
    }
   ],
   "source": [
    "dic={'apple':5,'orange':6,'mango':8}\n",
    "dic.values()"
   ]
  },
  {
   "cell_type": "code",
   "execution_count": 69,
   "metadata": {},
   "outputs": [
    {
     "data": {
      "text/plain": [
       "dict_keys(['apple', 'orange', 'mango'])"
      ]
     },
     "execution_count": 69,
     "metadata": {},
     "output_type": "execute_result"
    }
   ],
   "source": [
    "dic.keys()"
   ]
  },
  {
   "cell_type": "code",
   "execution_count": 72,
   "metadata": {},
   "outputs": [
    {
     "name": "stdout",
     "output_type": "stream",
     "text": [
      "6\n"
     ]
    }
   ],
   "source": [
    "print(dic['orange'])"
   ]
  },
  {
   "cell_type": "code",
   "execution_count": 86,
   "metadata": {},
   "outputs": [
    {
     "name": "stdout",
     "output_type": "stream",
     "text": [
      "{'a': 'Chennai', 'b': 'Bangolre', 'c': 'Karnataka'}\n"
     ]
    }
   ],
   "source": [
    "names=['a','b','c']\n",
    "cities=[\"Chennai\",\"Bangolre\",\"Karnataka\"]\n",
    "dic1={}\n",
    "for i in range(0,len(names)):\n",
    "    dic1[names[i]]=cities[i]\n",
    "print(dic1)\n",
    "\n"
   ]
  },
  {
   "cell_type": "code",
   "execution_count": 90,
   "metadata": {},
   "outputs": [
    {
     "data": {
      "text/plain": [
       "{'a': 'Chennai', 'b': 'Bangolre', 'c': 'Karnataka'}"
      ]
     },
     "execution_count": 90,
     "metadata": {},
     "output_type": "execute_result"
    }
   ],
   "source": [
    "dict(zip(names,cities))"
   ]
  },
  {
   "cell_type": "code",
   "execution_count": 95,
   "metadata": {},
   "outputs": [
    {
     "name": "stdout",
     "output_type": "stream",
     "text": [
      "{'a': 'Chennai', 'b': 'Bangolre', 'c': 'Karnataka'}\n"
     ]
    }
   ],
   "source": [
    "res2={}\n",
    "for i,j in zip(names,cities):\n",
    "    res2.update({i:j})\n",
    "print(res2)"
   ]
  },
  {
   "cell_type": "code",
   "execution_count": 113,
   "metadata": {},
   "outputs": [
    {
     "name": "stdout",
     "output_type": "stream",
     "text": [
      "{False, True, 100, 'C', 12, 'B', 150, 'A'}\n"
     ]
    }
   ],
   "source": [
    "set1={'A','B',True,12,100}\n",
    "set2={'C',False,12,'B',150}\n",
    "resa=set1|set2\n",
    "print(resa)"
   ]
  },
  {
   "cell_type": "code",
   "execution_count": 114,
   "metadata": {},
   "outputs": [
    {
     "name": "stdout",
     "output_type": "stream",
     "text": [
      "{True, 'A', 100}\n"
     ]
    }
   ],
   "source": [
    "resb=set1-set2\n",
    "print(resb)"
   ]
  },
  {
   "cell_type": "code",
   "execution_count": 115,
   "metadata": {},
   "outputs": [
    {
     "name": "stdout",
     "output_type": "stream",
     "text": [
      "{False, True, 'A', 100, 150, 'C'}\n"
     ]
    }
   ],
   "source": [
    "resc=set1^set2\n",
    "print(resc)"
   ]
  },
  {
   "cell_type": "code",
   "execution_count": 116,
   "metadata": {},
   "outputs": [
    {
     "name": "stdout",
     "output_type": "stream",
     "text": [
      "{12, 'B'}\n"
     ]
    }
   ],
   "source": [
    "resd=set1 & set2\n",
    "print(resd)"
   ]
  },
  {
   "cell_type": "code",
   "execution_count": 119,
   "metadata": {},
   "outputs": [
    {
     "name": "stdout",
     "output_type": "stream",
     "text": [
      "<class 'frozenset'>\n"
     ]
    }
   ],
   "source": [
    "ans=frozenset({1,3,4,5})\n",
    "print(type(ans))"
   ]
  },
  {
   "cell_type": "code",
   "execution_count": 121,
   "metadata": {},
   "outputs": [
    {
     "name": "stdout",
     "output_type": "stream",
     "text": [
      "frozenset({1, 2, 3, 4, 5, 7, 8})\n"
     ]
    }
   ],
   "source": [
    "ans2=frozenset({2,5,7,8})\n",
    "res4=ans|ans2\n",
    "print(res4)"
   ]
  },
  {
   "cell_type": "code",
   "execution_count": 122,
   "metadata": {},
   "outputs": [
    {
     "name": "stdout",
     "output_type": "stream",
     "text": [
      "frozenset({5})\n"
     ]
    }
   ],
   "source": [
    "res5=ans&ans2\n",
    "print(res5)"
   ]
  },
  {
   "cell_type": "code",
   "execution_count": 123,
   "metadata": {},
   "outputs": [
    {
     "name": "stdout",
     "output_type": "stream",
     "text": [
      "{False, 50, 'Thanks', 150, 'C', 12, 'B'}\n"
     ]
    }
   ],
   "source": [
    "tl1=['Thanks',50]\n",
    "set2.update(tl1)\n",
    "print(set2)"
   ]
  },
  {
   "cell_type": "code",
   "execution_count": 124,
   "metadata": {},
   "outputs": [],
   "source": [
    "set2.remove(False)"
   ]
  },
  {
   "cell_type": "code",
   "execution_count": 125,
   "metadata": {},
   "outputs": [
    {
     "name": "stdout",
     "output_type": "stream",
     "text": [
      "{50, 'Thanks', 150, 'C', 12, 'B'}\n"
     ]
    }
   ],
   "source": [
    "print(set2)"
   ]
  },
  {
   "cell_type": "code",
   "execution_count": 127,
   "metadata": {},
   "outputs": [
    {
     "ename": "KeyError",
     "evalue": "False",
     "output_type": "error",
     "traceback": [
      "\u001b[1;31m---------------------------------------------------------------------------\u001b[0m",
      "\u001b[1;31mKeyError\u001b[0m                                  Traceback (most recent call last)",
      "Cell \u001b[1;32mIn[127], line 1\u001b[0m\n\u001b[1;32m----> 1\u001b[0m \u001b[43mset2\u001b[49m\u001b[38;5;241;43m.\u001b[39;49m\u001b[43mremove\u001b[49m\u001b[43m(\u001b[49m\u001b[38;5;28;43;01mFalse\u001b[39;49;00m\u001b[43m)\u001b[49m\n",
      "\u001b[1;31mKeyError\u001b[0m: False"
     ]
    }
   ],
   "source": [
    "set2.remove(False)"
   ]
  },
  {
   "cell_type": "code",
   "execution_count": 128,
   "metadata": {},
   "outputs": [],
   "source": [
    "set2.discard(False)"
   ]
  },
  {
   "cell_type": "code",
   "execution_count": 129,
   "metadata": {},
   "outputs": [
    {
     "ename": "AttributeError",
     "evalue": "'frozenset' object has no attribute 'remove'",
     "output_type": "error",
     "traceback": [
      "\u001b[1;31m---------------------------------------------------------------------------\u001b[0m",
      "\u001b[1;31mAttributeError\u001b[0m                            Traceback (most recent call last)",
      "Cell \u001b[1;32mIn[129], line 1\u001b[0m\n\u001b[1;32m----> 1\u001b[0m \u001b[43mans2\u001b[49m\u001b[38;5;241;43m.\u001b[39;49m\u001b[43mremove\u001b[49m(\u001b[38;5;241m2\u001b[39m)\n",
      "\u001b[1;31mAttributeError\u001b[0m: 'frozenset' object has no attribute 'remove'"
     ]
    }
   ],
   "source": [
    "ans2.remove(2)"
   ]
  },
  {
   "cell_type": "code",
   "execution_count": null,
   "metadata": {},
   "outputs": [],
   "source": []
  }
 ],
 "metadata": {
  "kernelspec": {
   "display_name": "Python 3",
   "language": "python",
   "name": "python3"
  },
  "language_info": {
   "codemirror_mode": {
    "name": "ipython",
    "version": 3
   },
   "file_extension": ".py",
   "mimetype": "text/x-python",
   "name": "python",
   "nbconvert_exporter": "python",
   "pygments_lexer": "ipython3",
   "version": "3.12.0"
  }
 },
 "nbformat": 4,
 "nbformat_minor": 2
}
