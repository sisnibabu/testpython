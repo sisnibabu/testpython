{
 "cells": [
  {
   "cell_type": "markdown",
   "metadata": {},
   "source": [
    "### 1) List the last 3 character for odd index and first 3 character for even index\n",
    "\tlist=[\"apple\",\"ORANGE\",\"mango\"]\n",
    "\toutput = [\"ple\", \"ORA\", \"ngo\"]\n"
   ]
  },
  {
   "cell_type": "code",
   "execution_count": 32,
   "metadata": {},
   "outputs": [
    {
     "name": "stdout",
     "output_type": "stream",
     "text": [
      "['ple', 'ORA', 'ngo']\n"
     ]
    }
   ],
   "source": [
    "import string\n",
    "lst=[\"apple\",\"ORANGE\",\"mango\"]\n",
    "a=lst[0]\n",
    "b=lst[1]\n",
    "c=lst[2]\n",
    "lst1=(a[2:5],b[0:3],c[2:5])\n",
    "lst2=list(lst1)\n",
    "print(lst2)\n"
   ]
  },
  {
   "cell_type": "markdown",
   "metadata": {},
   "source": [
    "### 2) List2 = [3,6,9,1,5,7] .Find the length of the list without using any built in functions.  "
   ]
  },
  {
   "cell_type": "code",
   "execution_count": null,
   "metadata": {},
   "outputs": [],
   "source": [
    "lst=[3,6,9,1,5,7]"
   ]
  },
  {
   "cell_type": "markdown",
   "metadata": {},
   "source": [
    "### \n",
    "3) Python Program as a function  to find Leap year.\n",
    "\teg. input = 2023 >>> eg. output = it is not a leap year\n",
    "\teg. input = 2024 >>> eg. output = it is a leap year\n"
   ]
  },
  {
   "cell_type": "code",
   "execution_count": 37,
   "metadata": {},
   "outputs": [],
   "source": [
    "import calendar\n"
   ]
  },
  {
   "cell_type": "code",
   "execution_count": 4,
   "metadata": {},
   "outputs": [
    {
     "ename": "NameError",
     "evalue": "name 'isleap' is not defined",
     "output_type": "error",
     "traceback": [
      "\u001b[1;31m---------------------------------------------------------------------------\u001b[0m",
      "\u001b[1;31mNameError\u001b[0m                                 Traceback (most recent call last)",
      "Cell \u001b[1;32mIn[4], line 6\u001b[0m\n\u001b[0;32m      4\u001b[0m     \u001b[38;5;28;01melse\u001b[39;00m:\n\u001b[0;32m      5\u001b[0m         \u001b[38;5;28mprint\u001b[39m(\u001b[38;5;124m\"\u001b[39m\u001b[38;5;124mIts not a Leap year\u001b[39m\u001b[38;5;124m\"\u001b[39m)\n\u001b[1;32m----> 6\u001b[0m \u001b[43mleap\u001b[49m\u001b[43m(\u001b[49m\u001b[38;5;241;43m2024\u001b[39;49m\u001b[43m)\u001b[49m\n",
      "Cell \u001b[1;32mIn[4], line 2\u001b[0m, in \u001b[0;36mleap\u001b[1;34m(a)\u001b[0m\n\u001b[0;32m      1\u001b[0m \u001b[38;5;28;01mdef\u001b[39;00m \u001b[38;5;21mleap\u001b[39m(a):\n\u001b[1;32m----> 2\u001b[0m     \u001b[38;5;28;01mif\u001b[39;00m \u001b[43misleap\u001b[49m(a):\n\u001b[0;32m      3\u001b[0m         \u001b[38;5;28mprint\u001b[39m(\u001b[38;5;124m\"\u001b[39m\u001b[38;5;124mIts Leap year\u001b[39m\u001b[38;5;124m\"\u001b[39m)\n\u001b[0;32m      4\u001b[0m     \u001b[38;5;28;01melse\u001b[39;00m:\n",
      "\u001b[1;31mNameError\u001b[0m: name 'isleap' is not defined"
     ]
    }
   ],
   "source": [
    "def leap(a):\n",
    "    if isleap(a):\n",
    "        print(\"Its Leap year\")\n",
    "    else:\n",
    "        print(\"Its not a Leap year\")\n",
    "leap(2024)"
   ]
  },
  {
   "cell_type": "markdown",
   "metadata": {},
   "source": [
    "### 4) List1=[22,45,”python”,21,”sample”] . \n",
    "Add 20 to the integers of above list and sum all the integers in the list without using the sum function.\n"
   ]
  },
  {
   "cell_type": "code",
   "execution_count": 51,
   "metadata": {},
   "outputs": [
    {
     "name": "stdout",
     "output_type": "stream",
     "text": [
      "[22, 45, 'python', 21, 'sample', 20]\n",
      "108\n"
     ]
    }
   ],
   "source": [
    "lst1=[22,45, 'python' , 21,'sample'] \n",
    "lst1.append(20)\n",
    "print(lst1)\n",
    "a=lst1[0]\n",
    "b=lst1[1]\n",
    "c=lst1[3]\n",
    "d=lst1[5]\n",
    "sum=a+b+c+d\n",
    "print(sum)\n",
    "\n"
   ]
  },
  {
   "cell_type": "markdown",
   "metadata": {},
   "source": [
    "### 5)Given a number write a Program to print a multiplication table.\n"
   ]
  },
  {
   "cell_type": "code",
   "execution_count": 11,
   "metadata": {},
   "outputs": [
    {
     "name": "stdout",
     "output_type": "stream",
     "text": [
      "7\n",
      "14\n",
      "21\n",
      "28\n",
      "35\n",
      "42\n",
      "49\n",
      "56\n",
      "63\n",
      "70\n"
     ]
    }
   ],
   "source": [
    "n=int(input(\"Enter:\"))\n",
    "for i in range(1,11):\n",
    "    m=n*i\n",
    "    print(m)\n",
    "    "
   ]
  },
  {
   "cell_type": "markdown",
   "metadata": {},
   "source": [
    "### 6)Python program to concatenate all Elements of a List into a String Using list comprehension\n",
    "\tInput=[\"All\",\"the\",\"best\"]\n",
    "\toutput= All the best.\n"
   ]
  },
  {
   "cell_type": "code",
   "execution_count": 14,
   "metadata": {},
   "outputs": [
    {
     "name": "stdout",
     "output_type": "stream",
     "text": [
      "all the best\n"
     ]
    }
   ],
   "source": [
    "lst=[\"all\",\"the\",\"best\"]\n",
    "\n",
    "opt=lst[0]+\" \"+lst[1]+\" \"+lst[2]\n",
    "print(opt)"
   ]
  },
  {
   "cell_type": "markdown",
   "metadata": {},
   "source": [
    "### 7) Find the given output, from the following dictionaries - combine the list and sort the values\n",
    "     set1 = {'Ajith' : 12, 'Balu' : 20, 'chinnu' : 10 } \n",
    "     set2 = {'David' : 16, 'Eshwar' : 08, 'Frank' : 18} \n",
    "     output = [08,10,12,16,18,20]\n"
   ]
  },
  {
   "cell_type": "code",
   "execution_count": 24,
   "metadata": {},
   "outputs": [
    {
     "name": "stdout",
     "output_type": "stream",
     "text": [
      "dict_values([12, 20, 10])\n",
      "dict_values([16, 8, 18])\n"
     ]
    }
   ],
   "source": [
    "set1={'Ajith' : 12, 'Balu' : 20, 'chinnu' : 10 } \n",
    "set2={'David' : 16, 'Eshwar' : 8, 'Frank' : 18} \n",
    "key1=set1.values()\n",
    "print(key1)\n",
    "key2=set2.values()\n",
    "print(key2)\n",
    "\n"
   ]
  },
  {
   "cell_type": "markdown",
   "metadata": {},
   "source": [
    "### 8) Write a Python program to reverse a string without using reverse function."
   ]
  },
  {
   "cell_type": "code",
   "execution_count": 50,
   "metadata": {},
   "outputs": [
    {
     "name": "stdout",
     "output_type": "stream",
     "text": [
      "ELPPA\n"
     ]
    }
   ],
   "source": [
    "import string \n",
    "a=\"APPLE\"\n",
    "a1=a[4]\n",
    "a2=a[3]\n",
    "a3=a[2]\n",
    "a4=a[1]\n",
    "a5=a[0]\n",
    "ans=a1+a2+a3+a4+a5\n",
    "print(ans)\n",
    "\n"
   ]
  },
  {
   "cell_type": "markdown",
   "metadata": {},
   "source": [
    "### 9) List down the difference between set and tuple with a example"
   ]
  },
  {
   "cell_type": "markdown",
   "metadata": {},
   "source": [
    "### set - unordered,unchange,Allows duplicate -{}\n",
    "### tuple - Ordered,Unchange,allows duplicate -()"
   ]
  },
  {
   "cell_type": "markdown",
   "metadata": {},
   "source": [
    "### 10) Write a Python program to write a text file and read that file."
   ]
  },
  {
   "cell_type": "code",
   "execution_count": 1,
   "metadata": {},
   "outputs": [],
   "source": [
    "with open ('Sample.txt','w') as f:\n",
    " f.write(\"Hello\")"
   ]
  },
  {
   "cell_type": "markdown",
   "metadata": {},
   "source": [
    "### 11) Write a String Formatting program - change lower case to upper case\n",
    "\tlist=[\"apple\",\"ORANGE\",\"mango\"]\n",
    "\tOUTPUT= result 1 is APPLE\n",
    "\t\tresult 2 is orange\n",
    "\t\tresult 3 is Mango\n"
   ]
  },
  {
   "cell_type": "code",
   "execution_count": 36,
   "metadata": {},
   "outputs": [
    {
     "name": "stdout",
     "output_type": "stream",
     "text": [
      "Result 1 is  APPLE\n",
      "Result 2 is  orange\n",
      "Result 3 is  Mango\n"
     ]
    }
   ],
   "source": [
    "\n",
    "   \n",
    "   "
   ]
  },
  {
   "cell_type": "markdown",
   "metadata": {},
   "source": [
    "### 12) Give a brief for Decorators with examples."
   ]
  },
  {
   "cell_type": "markdown",
   "metadata": {},
   "source": [
    "### Decorators are the function which call the another function before excute the called function."
   ]
  },
  {
   "cell_type": "code",
   "execution_count": null,
   "metadata": {},
   "outputs": [],
   "source": []
  }
 ],
 "metadata": {
  "kernelspec": {
   "display_name": "Python 3",
   "language": "python",
   "name": "python3"
  },
  "language_info": {
   "codemirror_mode": {
    "name": "ipython",
    "version": 3
   },
   "file_extension": ".py",
   "mimetype": "text/x-python",
   "name": "python",
   "nbconvert_exporter": "python",
   "pygments_lexer": "ipython3",
   "version": "3.12.0"
  }
 },
 "nbformat": 4,
 "nbformat_minor": 2
}
