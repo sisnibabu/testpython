{
 "cells": [
  {
   "cell_type": "code",
   "execution_count": 4,
   "metadata": {},
   "outputs": [
    {
     "name": "stdout",
     "output_type": "stream",
     "text": [
      "aaa\n",
      "3\n",
      "4.0\n",
      "The string:aaa\n",
      "The int:3\n",
      "The float:4.0\n",
      "aaa is the string, 3 is the int, 4.0 is the float\n"
     ]
    }
   ],
   "source": [
    "str=input(\"Enter:\")\n",
    "num=int(input(\"Enter:\"))\n",
    "flo=float(input(\"Enter:\"))\n",
    "print(str)\n",
    "print(num)\n",
    "print(flo)\n",
    "print(f\"The string:{str}\")\n",
    "print(f\"The int:{num}\")\n",
    "print(f\"The float:{flo}\")\n",
    "\n"
   ]
  },
  {
   "cell_type": "markdown",
   "metadata": {},
   "source": [
    "### Using End default is \"New line\""
   ]
  },
  {
   "cell_type": "code",
   "execution_count": 8,
   "metadata": {},
   "outputs": [
    {
     "name": "stdout",
     "output_type": "stream",
     "text": [
      "aaa is the string , 3 is the int , 4.0 is the float\n"
     ]
    }
   ],
   "source": [
    "print(f\"{str} is the string\",end=\" , \")\n",
    "print( f\"{num} is the int\",end=\" , \")\n",
    "print(f\"{flo} is the float\")"
   ]
  },
  {
   "cell_type": "markdown",
   "metadata": {},
   "source": [
    "### Using sep Default  is \" \""
   ]
  },
  {
   "cell_type": "code",
   "execution_count": 10,
   "metadata": {},
   "outputs": [
    {
     "name": "stdout",
     "output_type": "stream",
     "text": [
      "aaa is the string , 3 is the int , 4.0 is the float\n"
     ]
    }
   ],
   "source": [
    "print(f\"{str} is the string\",f\"{num} is the int\",f\"{flo} is the float\",sep=' , ')"
   ]
  },
  {
   "cell_type": "markdown",
   "metadata": {},
   "source": [
    "### CLASS & OBJECT"
   ]
  },
  {
   "cell_type": "code",
   "execution_count": 11,
   "metadata": {},
   "outputs": [],
   "source": [
    "class demo:\n",
    "    x=5"
   ]
  },
  {
   "cell_type": "code",
   "execution_count": 13,
   "metadata": {},
   "outputs": [
    {
     "ename": "NameError",
     "evalue": "name 'x' is not defined",
     "output_type": "error",
     "traceback": [
      "\u001b[1;31m---------------------------------------------------------------------------\u001b[0m",
      "\u001b[1;31mNameError\u001b[0m                                 Traceback (most recent call last)",
      "Cell \u001b[1;32mIn[13], line 1\u001b[0m\n\u001b[1;32m----> 1\u001b[0m \u001b[38;5;28mprint\u001b[39m( \u001b[43mx\u001b[49m )\n",
      "\u001b[1;31mNameError\u001b[0m: name 'x' is not defined"
     ]
    }
   ],
   "source": [
    "print( x )"
   ]
  },
  {
   "cell_type": "code",
   "execution_count": 14,
   "metadata": {},
   "outputs": [
    {
     "name": "stdout",
     "output_type": "stream",
     "text": [
      "5\n"
     ]
    }
   ],
   "source": [
    "obj=demo()\n",
    "print(obj.x)"
   ]
  },
  {
   "cell_type": "markdown",
   "metadata": {},
   "source": [
    "### Init Methods - Constructor"
   ]
  },
  {
   "cell_type": "code",
   "execution_count": 15,
   "metadata": {},
   "outputs": [
    {
     "name": "stdout",
     "output_type": "stream",
     "text": [
      "working\n"
     ]
    }
   ],
   "source": [
    "class demo1:\n",
    "    def __init__(self):\n",
    "        print(\"working\")\n",
    "obj1=demo1()\n"
   ]
  },
  {
   "cell_type": "code",
   "execution_count": 21,
   "metadata": {},
   "outputs": [
    {
     "name": "stdout",
     "output_type": "stream",
     "text": [
      "working\n",
      "sisni\n",
      "5\n",
      "20\n"
     ]
    }
   ],
   "source": [
    "class demo1:\n",
    "    def __init__(self,a,name,age):\n",
    "        self.a=a\n",
    "        self.name=name\n",
    "        self.age=age\n",
    "        print(\"working\")\n",
    "#obj1=demo1(4)\n",
    "#print(obj1.a)\n",
    "obj2=demo1(5,'sisni',20)\n",
    "print(obj2.name)\n",
    "print(obj2.a)\n",
    "print(obj2.age)"
   ]
  },
  {
   "cell_type": "code",
   "execution_count": 47,
   "metadata": {},
   "outputs": [],
   "source": [
    "class sum:\n",
    "    def __init__(self,a,b):\n",
    "        self.a=a\n",
    "        self.b=b\n",
    "    def add(self,a,b):\n",
    "        c=a+b\n",
    "        return c"
   ]
  },
  {
   "cell_type": "code",
   "execution_count": 48,
   "metadata": {},
   "outputs": [],
   "source": [
    "obj3=sum(1,2)\n"
   ]
  },
  {
   "cell_type": "code",
   "execution_count": 50,
   "metadata": {},
   "outputs": [
    {
     "name": "stdout",
     "output_type": "stream",
     "text": [
      "3\n"
     ]
    }
   ],
   "source": [
    "print(obj3.add(1,2))"
   ]
  },
  {
   "cell_type": "markdown",
   "metadata": {},
   "source": [
    "### Overloading function"
   ]
  },
  {
   "cell_type": "markdown",
   "metadata": {},
   "source": [
    "dispatch -decorator \n",
    "\n",
    "Multiple argument dispatch is a technique in which different implementations of a function can be used depending on the type and number of arguments.\n",
    "\n",
    "Multiple dispatch ( function overloading) is choosing which among several function bodies to run, depending upon the arguments of a call."
   ]
  },
  {
   "cell_type": "code",
   "execution_count": 70,
   "metadata": {},
   "outputs": [
    {
     "name": "stdout",
     "output_type": "stream",
     "text": [
      "Defaulting to user installation because normal site-packages is not writeable\n",
      "Requirement already satisfied: multipledispatch in c:\\users\\sisni.b\\appdata\\roaming\\python\\python312\\site-packages (1.0.0)\n",
      "Note: you may need to restart the kernel to use updated packages.\n"
     ]
    },
    {
     "name": "stderr",
     "output_type": "stream",
     "text": [
      "\n",
      "[notice] A new release of pip is available: 23.2.1 -> 24.0\n",
      "[notice] To update, run: python.exe -m pip install --upgrade pip\n"
     ]
    }
   ],
   "source": [
    "pip install multipledispatch"
   ]
  },
  {
   "cell_type": "code",
   "execution_count": 71,
   "metadata": {},
   "outputs": [],
   "source": [
    "from multipledispatch import dispatch\n",
    "class sum:\n",
    "    def __init__(self,a,b):\n",
    "        self.a=a\n",
    "        self.b=b\n",
    "    @dispatch()\n",
    "    def add(self):\n",
    "        temp=self.a+self.b\n",
    "        return temp\n",
    "    @dispatch(int,int)\n",
    "    def add(self,c,d):\n",
    "        sum= c + d\n",
    "        return sum"
   ]
  },
  {
   "cell_type": "code",
   "execution_count": 72,
   "metadata": {},
   "outputs": [
    {
     "name": "stdout",
     "output_type": "stream",
     "text": [
      "3\n",
      "5\n"
     ]
    }
   ],
   "source": [
    "obj4=sum(1,2)\n",
    "print(obj4.add())\n",
    "print(obj4.add(2,3))\n"
   ]
  },
  {
   "cell_type": "code",
   "execution_count": 78,
   "metadata": {},
   "outputs": [
    {
     "name": "stdout",
     "output_type": "stream",
     "text": [
      "Odd: 3\n",
      "Even: 4\n",
      "Odd: 9\n",
      "Even: 8\n",
      "Odd: 15\n",
      "Even: 12\n",
      "Odd: 21\n",
      "Even: 16\n",
      "Odd: 27\n",
      "Even: 20\n"
     ]
    }
   ],
   "source": [
    "for num in range(1,11):\n",
    "    if num%2 == 0:\n",
    "      print(\"Even:\",num * 2)\n",
    "   \n",
    "\n",
    "    else:\n",
    "        print(\"Odd:\", num * 3)"
   ]
  },
  {
   "cell_type": "code",
   "execution_count": 79,
   "metadata": {},
   "outputs": [
    {
     "name": "stdout",
     "output_type": "stream",
     "text": [
      "2\n",
      "4\n",
      "6\n",
      "8\n",
      "10\n",
      "12\n"
     ]
    }
   ],
   "source": [
    "for i in range(2,13,2):\n",
    "    print(i)"
   ]
  },
  {
   "cell_type": "code",
   "execution_count": 99,
   "metadata": {},
   "outputs": [
    {
     "name": "stdout",
     "output_type": "stream",
     "text": [
      "Passed: 1\n",
      "Passed: 2\n",
      "Passed: 3\n",
      "Passed: 4\n",
      "Passed: 5\n",
      "Passed: 6\n",
      "Passed: 7\n",
      "Passed: 8\n",
      "Passed: 9\n",
      "Failed: 10\n"
     ]
    }
   ],
   "source": [
    "\n",
    "for num1 in range(1,10):\n",
    "    print(\"Passed:\",num1)\n",
    "else:\n",
    "    print(\"Failed:\",num1+1)"
   ]
  },
  {
   "cell_type": "code",
   "execution_count": 93,
   "metadata": {},
   "outputs": [
    {
     "name": "stdout",
     "output_type": "stream",
     "text": [
      "Passed: 1\n",
      "Passed: 2\n",
      "Passed: 3\n",
      "Passed: 4\n",
      "Passed: 5\n",
      "Passed: 6\n",
      "Passed: 7\n",
      "Passed: 8\n",
      "Passed: 9\n",
      "Failed: 10\n"
     ]
    }
   ],
   "source": [
    "n=1\n",
    "while n<10:\n",
    "    print(\"Passed:\",n)\n",
    "    n+=1\n",
    "else:\n",
    "    print(\"Failed:\",n)"
   ]
  },
  {
   "cell_type": "code",
   "execution_count": 102,
   "metadata": {},
   "outputs": [
    {
     "name": "stdout",
     "output_type": "stream",
     "text": [
      "Passed: 1\n",
      "Passed: 2\n",
      "Passed: 3\n",
      "Passed: 4\n",
      "5\n"
     ]
    }
   ],
   "source": [
    "for i in range(1,10):\n",
    "    if i == 5:\n",
    "        break\n",
    "    print(\"Passed:\",i)\n",
    "print(i)\n"
   ]
  },
  {
   "cell_type": "code",
   "execution_count": 103,
   "metadata": {},
   "outputs": [
    {
     "name": "stdout",
     "output_type": "stream",
     "text": [
      "Passed: 1\n",
      "Passed: 2\n",
      "Passed: 3\n",
      "Passed: 4\n",
      "Passed: 6\n",
      "Passed: 7\n",
      "Passed: 8\n",
      "Passed: 9\n",
      "9\n"
     ]
    }
   ],
   "source": [
    "for i in range(1,10):\n",
    "    if i == 5:\n",
    "        continue\n",
    "    print(\"Passed:\",i)\n",
    "print(i)"
   ]
  },
  {
   "cell_type": "code",
   "execution_count": 106,
   "metadata": {},
   "outputs": [
    {
     "name": "stdout",
     "output_type": "stream",
     "text": [
      "Passed: 1\n",
      "Passed: 2\n"
     ]
    }
   ],
   "source": [
    "n1=1\n",
    "while n1<10:\n",
    "    if n1==3:\n",
    "        break\n",
    "    print(\"Passed:\",n1)\n",
    "    n1+=1"
   ]
  },
  {
   "cell_type": "markdown",
   "metadata": {},
   "source": [
    "### Function"
   ]
  },
  {
   "cell_type": "code",
   "execution_count": 107,
   "metadata": {},
   "outputs": [
    {
     "data": {
      "text/plain": [
       "'This is Sum function'"
      ]
     },
     "execution_count": 107,
     "metadata": {},
     "output_type": "execute_result"
    }
   ],
   "source": [
    "def sum():\n",
    "    return \"This is Sum function\"\n",
    "sum()"
   ]
  },
  {
   "cell_type": "code",
   "execution_count": 111,
   "metadata": {},
   "outputs": [
    {
     "data": {
      "text/plain": [
       "6"
      ]
     },
     "execution_count": 111,
     "metadata": {},
     "output_type": "execute_result"
    }
   ],
   "source": [
    "def sum1(a,b):\n",
    "    return a+b\n",
    "sum1(2,4)"
   ]
  },
  {
   "cell_type": "code",
   "execution_count": 113,
   "metadata": {},
   "outputs": [
    {
     "data": {
      "text/plain": [
       "4"
      ]
     },
     "execution_count": 113,
     "metadata": {},
     "output_type": "execute_result"
    }
   ],
   "source": [
    "def demo(a=5,b=2):\n",
    "    return a+b\n",
    "demo(2)"
   ]
  },
  {
   "cell_type": "code",
   "execution_count": 114,
   "metadata": {},
   "outputs": [
    {
     "data": {
      "text/plain": [
       "6"
      ]
     },
     "execution_count": 114,
     "metadata": {},
     "output_type": "execute_result"
    }
   ],
   "source": [
    "demo(2,4)"
   ]
  },
  {
   "cell_type": "code",
   "execution_count": 115,
   "metadata": {},
   "outputs": [
    {
     "data": {
      "text/plain": [
       "7"
      ]
     },
     "execution_count": 115,
     "metadata": {},
     "output_type": "execute_result"
    }
   ],
   "source": [
    "demo()"
   ]
  },
  {
   "cell_type": "code",
   "execution_count": 116,
   "metadata": {},
   "outputs": [
    {
     "data": {
      "text/plain": [
       "15"
      ]
     },
     "execution_count": 116,
     "metadata": {},
     "output_type": "execute_result"
    }
   ],
   "source": [
    "demo(b=10)"
   ]
  },
  {
   "cell_type": "markdown",
   "metadata": {},
   "source": [
    "### Args- Tuple"
   ]
  },
  {
   "cell_type": "code",
   "execution_count": 117,
   "metadata": {},
   "outputs": [
    {
     "name": "stdout",
     "output_type": "stream",
     "text": [
      "(1, 2, 3)\n",
      "(1, 2)\n",
      "(1,)\n"
     ]
    }
   ],
   "source": [
    "def fun(*args):\n",
    "    print(args)\n",
    "fun(1,2,3)\n",
    "fun(1,2)\n",
    "fun(1)"
   ]
  },
  {
   "cell_type": "code",
   "execution_count": 119,
   "metadata": {},
   "outputs": [
    {
     "name": "stdout",
     "output_type": "stream",
     "text": [
      "1\n",
      "2\n",
      "3\n",
      "1\n",
      "2\n",
      "1\n"
     ]
    }
   ],
   "source": [
    "def fun(*args):\n",
    "    for i in args:\n",
    "        print( i)\n",
    "fun(1,2,3)\n",
    "fun(1,2)\n",
    "fun(1)"
   ]
  },
  {
   "cell_type": "markdown",
   "metadata": {},
   "source": [
    "### Kwargs=Dict"
   ]
  },
  {
   "cell_type": "code",
   "execution_count": 121,
   "metadata": {},
   "outputs": [
    {
     "name": "stdout",
     "output_type": "stream",
     "text": [
      "{'a': 1, 'b': 2, 'c': 3}\n",
      "{'a': 4, 'b': 5}\n",
      "{'a': 4}\n"
     ]
    }
   ],
   "source": [
    "def fun1(**kwargs):\n",
    "    print(kwargs)\n",
    "fun1(a=1,b=2,c=3)\n",
    "fun1(a=4,b=5)\n",
    "fun1(a=4)"
   ]
  },
  {
   "cell_type": "code",
   "execution_count": 128,
   "metadata": {},
   "outputs": [
    {
     "name": "stdout",
     "output_type": "stream",
     "text": [
      "The value of key is a\n",
      "The value of values is  1\n",
      "The value of key is b\n",
      "The value of values is  2\n",
      "The value of key is c\n",
      "The value of values is  3\n",
      "The value of key is a\n",
      "The value of values is  4\n",
      "The value of key is b\n",
      "The value of values is  5\n",
      "The value of key is a\n",
      "The value of values is  4\n"
     ]
    }
   ],
   "source": [
    "def fun1(**kwargs):\n",
    "    for key,value in kwargs.items():\n",
    "        print(\"The value of key is\",key)\n",
    "        print(\"The value of values is \",value)\n",
    "       \n",
    "fun1(a=1,b=2,c=3)\n",
    "fun1(a=4,b=5)\n",
    "fun1(a=4)"
   ]
  },
  {
   "cell_type": "code",
   "execution_count": null,
   "metadata": {},
   "outputs": [],
   "source": []
  }
 ],
 "metadata": {
  "kernelspec": {
   "display_name": "Python 3",
   "language": "python",
   "name": "python3"
  },
  "language_info": {
   "codemirror_mode": {
    "name": "ipython",
    "version": 3
   },
   "file_extension": ".py",
   "mimetype": "text/x-python",
   "name": "python",
   "nbconvert_exporter": "python",
   "pygments_lexer": "ipython3",
   "version": "3.12.0"
  }
 },
 "nbformat": 4,
 "nbformat_minor": 2
}
