{
 "cells": [
  {
   "cell_type": "code",
   "execution_count": 1,
   "metadata": {},
   "outputs": [
    {
     "name": "stdout",
     "output_type": "stream",
     "text": [
      "6a4v5f\n"
     ]
    }
   ],
   "source": [
    "s1=input(\"Enter:\")\n",
    "pre=s1[0]\n",
    "count=1\n",
    "out=\"\"\n",
    "i=1\n",
    "while i<len(s1):\n",
    "    if s1[i]==pre:\n",
    "        count+=1\n",
    "    else:\n",
    "        out=out+str(count)+pre\n",
    "        pre=s1[i]\n",
    "        count=1\n",
    "    if i==(len(s1)-1):\n",
    "        out=out+str(count)+pre\n",
    "    i+=1\n",
    "print(out)\n",
    "    "
   ]
  },
  {
   "cell_type": "code",
   "execution_count": 13,
   "metadata": {},
   "outputs": [
    {
     "name": "stdout",
     "output_type": "stream",
     "text": [
      "uuuuuuuuiiiiiiiiigggg\n"
     ]
    }
   ],
   "source": [
    "s2=input(\"Enter\")\n",
    "res=''\n",
    "for ch in s2:\n",
    "    if ch.isdigit():\n",
    "        x=int(ch)\n",
    "    else:\n",
    "        res=res+ x * ch\n",
    "print(res)"
   ]
  },
  {
   "cell_type": "code",
   "execution_count": 14,
   "metadata": {},
   "outputs": [
    {
     "name": "stdout",
     "output_type": "stream",
     "text": [
      "[1, 2, 3]\n"
     ]
    }
   ],
   "source": [
    "l=[1,2,3]\n",
    "l2=l.copy()\n",
    "print(l2)\n"
   ]
  },
  {
   "cell_type": "code",
   "execution_count": 15,
   "metadata": {},
   "outputs": [
    {
     "name": "stdout",
     "output_type": "stream",
     "text": [
      "[1, 2, 3]\n"
     ]
    }
   ],
   "source": [
    "from copy import deepcopy\n",
    "l3=deepcopy(l2)\n",
    "print(l3)"
   ]
  },
  {
   "cell_type": "code",
   "execution_count": 16,
   "metadata": {},
   "outputs": [],
   "source": [
    "l.append(4)"
   ]
  },
  {
   "cell_type": "code",
   "execution_count": 21,
   "metadata": {},
   "outputs": [
    {
     "name": "stdout",
     "output_type": "stream",
     "text": [
      "[1, 2, 3]\n"
     ]
    }
   ],
   "source": [
    "print(l2)"
   ]
  },
  {
   "cell_type": "code",
   "execution_count": 22,
   "metadata": {},
   "outputs": [
    {
     "name": "stdout",
     "output_type": "stream",
     "text": [
      "[1, 2, 3, 4]\n"
     ]
    }
   ],
   "source": [
    "print(l)"
   ]
  },
  {
   "cell_type": "code",
   "execution_count": 23,
   "metadata": {},
   "outputs": [
    {
     "data": {
      "text/plain": [
       "1560795230080"
      ]
     },
     "execution_count": 23,
     "metadata": {},
     "output_type": "execute_result"
    }
   ],
   "source": [
    "id(l)\n"
   ]
  },
  {
   "cell_type": "code",
   "execution_count": 25,
   "metadata": {},
   "outputs": [
    {
     "data": {
      "text/plain": [
       "1560795059712"
      ]
     },
     "execution_count": 25,
     "metadata": {},
     "output_type": "execute_result"
    }
   ],
   "source": [
    "id(l2)"
   ]
  },
  {
   "cell_type": "code",
   "execution_count": 27,
   "metadata": {},
   "outputs": [
    {
     "data": {
      "text/plain": [
       "1560795233152"
      ]
     },
     "execution_count": 27,
     "metadata": {},
     "output_type": "execute_result"
    }
   ],
   "source": [
    "id(l3)"
   ]
  },
  {
   "cell_type": "code",
   "execution_count": 28,
   "metadata": {},
   "outputs": [
    {
     "name": "stdout",
     "output_type": "stream",
     "text": [
      "['a@gmail.com', 'b@gmail.com', 'c@gmail.com']\n"
     ]
    }
   ],
   "source": [
    "users=[\"a\",\"b\",\"c\"]\n",
    "domain=\"gmail.com\"\n",
    "ans=[i+\"@\"+domain for i in users]\n",
    "print(ans)"
   ]
  },
  {
   "cell_type": "code",
   "execution_count": 33,
   "metadata": {},
   "outputs": [
    {
     "name": "stdout",
     "output_type": "stream",
     "text": [
      "[3, 13, 23, 30, 31, 32, 33, 34, 35, 36, 37, 38, 39, 43, 53, 63, 73, 83, 93, 103, 113, 123, 130, 131, 132, 133, 134, 135, 136, 137, 138, 139, 143, 153, 163, 173, 183, 193, 203, 213, 223, 230, 231, 232, 233, 234, 235, 236, 237, 238, 239, 243, 253, 263, 273, 283, 293, 300, 301, 302, 303, 304, 305, 306, 307, 308, 309, 310, 311, 312, 313, 314, 315, 316, 317, 318, 319, 320, 321, 322, 323, 324, 325, 326, 327, 328, 329, 330, 331, 332, 333, 334, 335, 336, 337, 338, 339, 340, 341, 342, 343, 344, 345, 346, 347, 348, 349, 350, 351, 352, 353, 354, 355, 356, 357, 358, 359, 360, 361, 362, 363, 364, 365, 366, 367, 368, 369, 370, 371, 372, 373, 374, 375, 376, 377, 378, 379, 380, 381, 382, 383, 384, 385, 386, 387, 388, 389, 390, 391, 392, 393, 394, 395, 396, 397, 398, 399, 403, 413, 423, 430, 431, 432, 433, 434, 435, 436, 437, 438, 439, 443, 453, 463, 473, 483, 493, 503, 513, 523, 530, 531, 532, 533, 534, 535, 536, 537, 538, 539, 543, 553, 563, 573, 583, 593, 603, 613, 623, 630, 631, 632, 633, 634, 635, 636, 637, 638, 639, 643, 653, 663, 673, 683, 693, 703, 713, 723, 730, 731, 732, 733, 734, 735, 736, 737, 738, 739, 743, 753, 763, 773, 783, 793, 803, 813, 823, 830, 831, 832, 833, 834, 835, 836, 837, 838, 839, 843, 853, 863, 873, 883, 893, 903, 913, 923, 930, 931, 932, 933, 934, 935, 936, 937, 938, 939, 943, 953, 963, 973, 983, 993]\n",
      "271\n"
     ]
    }
   ],
   "source": [
    "res1=[i for i in range(1,1000)if \"3\" in str(i)]\n",
    "print(res1)\n",
    "print(len(res1))"
   ]
  },
  {
   "cell_type": "markdown",
   "metadata": {},
   "source": [
    "### FILE HANDALING"
   ]
  },
  {
   "cell_type": "code",
   "execution_count": 46,
   "metadata": {},
   "outputs": [
    {
     "name": "stdout",
     "output_type": "stream",
     "text": [
      "Hii \n",
      "hello\n",
      "haii\n"
     ]
    }
   ],
   "source": [
    "with open ('sample.txt','r') as f:\n",
    "    d=f.read()\n",
    "  \n",
    "print(d)  "
   ]
  },
  {
   "cell_type": "code",
   "execution_count": 52,
   "metadata": {},
   "outputs": [
    {
     "name": "stdout",
     "output_type": "stream",
     "text": [
      "This is my sample file\n"
     ]
    }
   ],
   "source": [
    "with open ('sample.txt','r') as f:\n",
    "      d1=f.readline()\n",
    "print(d1)"
   ]
  },
  {
   "cell_type": "code",
   "execution_count": 45,
   "metadata": {},
   "outputs": [
    {
     "name": "stdout",
     "output_type": "stream",
     "text": [
      "['Hii \\n', 'hello\\n', 'haii']\n"
     ]
    }
   ],
   "source": [
    "with open ('sample.txt','r') as f:\n",
    "     d2=f.readlines()\n",
    "print(d2)"
   ]
  },
  {
   "cell_type": "code",
   "execution_count": 51,
   "metadata": {},
   "outputs": [],
   "source": [
    "with open ('sample.txt','w') as f:\n",
    "    s=f.write(\"This is my sample file\")\n",
    "    "
   ]
  },
  {
   "cell_type": "code",
   "execution_count": 59,
   "metadata": {},
   "outputs": [],
   "source": [
    "with open ('sample.txt','w') as f:\n",
    "    txt=['Welcomw\\nto\\nPythonClass\\n']\n",
    "    f.writelines(txt)"
   ]
  },
  {
   "cell_type": "code",
   "execution_count": 60,
   "metadata": {},
   "outputs": [],
   "source": [
    "with open ('sample.txt','a') as f:\n",
    "    txt=['Welcomw\\nto\\nPythonClass\\nDay1']\n",
    "    f.writelines(txt)"
   ]
  },
  {
   "cell_type": "code",
   "execution_count": 61,
   "metadata": {},
   "outputs": [],
   "source": [
    "import os"
   ]
  },
  {
   "cell_type": "code",
   "execution_count": 64,
   "metadata": {},
   "outputs": [],
   "source": [
    "t=os.listdir('C:')"
   ]
  },
  {
   "cell_type": "code",
   "execution_count": 65,
   "metadata": {},
   "outputs": [
    {
     "name": "stdout",
     "output_type": "stream",
     "text": [
      "['$Recycle.Bin', '$WinREAgent', 'Documents and Settings', 'DumpStack.log.tmp', 'hiberfil.sys', 'Intel', 'pagefile.sys', 'PerfLogs', 'Program Files', 'Program Files (x86)', 'ProgramData', 'Recovery', 'swapfile.sys', 'System Volume Information', 'temp', 'Users', 'Windows']\n"
     ]
    }
   ],
   "source": [
    "print(t)"
   ]
  },
  {
   "cell_type": "code",
   "execution_count": 66,
   "metadata": {},
   "outputs": [
    {
     "name": "stdout",
     "output_type": "stream",
     "text": [
      "$Recycle.Bin\n",
      "$WinREAgent\n",
      "Documents and Settings\n",
      "DumpStack.log.tmp\n",
      "hiberfil.sys\n",
      "Intel\n",
      "pagefile.sys\n",
      "PerfLogs\n",
      "Program Files\n",
      "Program Files (x86)\n",
      "ProgramData\n",
      "Recovery\n",
      "swapfile.sys\n",
      "System Volume Information\n",
      "temp\n",
      "Users\n",
      "Windows\n"
     ]
    }
   ],
   "source": [
    "for entry in os.listdir(\"C:\"):\n",
    "    print(entry)"
   ]
  },
  {
   "cell_type": "code",
   "execution_count": 67,
   "metadata": {},
   "outputs": [
    {
     "name": "stdout",
     "output_type": "stream",
     "text": [
      "<DirEntry '$Recycle.Bin'>\n",
      "<DirEntry '$WinREAgent'>\n",
      "<DirEntry 'Documents and Settings'>\n",
      "<DirEntry 'DumpStack.log.tmp'>\n",
      "<DirEntry 'hiberfil.sys'>\n",
      "<DirEntry 'Intel'>\n",
      "<DirEntry 'pagefile.sys'>\n",
      "<DirEntry 'PerfLogs'>\n",
      "<DirEntry 'Program Files'>\n",
      "<DirEntry 'Program Files (x86)'>\n",
      "<DirEntry 'ProgramData'>\n",
      "<DirEntry 'Recovery'>\n",
      "<DirEntry 'swapfile.sys'>\n",
      "<DirEntry 'System Volume Information'>\n",
      "<DirEntry 'temp'>\n",
      "<DirEntry 'Users'>\n",
      "<DirEntry 'Windows'>\n"
     ]
    }
   ],
   "source": [
    "with os.scandir(\"C:\") as entry:\n",
    "    for e in entry:\n",
    "        print(e)"
   ]
  },
  {
   "cell_type": "code",
   "execution_count": 69,
   "metadata": {},
   "outputs": [
    {
     "name": "stdout",
     "output_type": "stream",
     "text": [
      "Day 1\n",
      "Day2\n",
      "Day3\n",
      "Day5\n",
      "Python.odt\n",
      "task1\n",
      "TASK1-4-24\n",
      "task2\n",
      "task2-4-24\n",
      "TASK4\n",
      "taskday1\n",
      "venv\n"
     ]
    }
   ],
   "source": [
    "for entry in os.listdir(\"D:/python\"):\n",
    "    print(entry)"
   ]
  },
  {
   "cell_type": "code",
   "execution_count": 76,
   "metadata": {},
   "outputs": [
    {
     "name": "stdout",
     "output_type": "stream",
     "text": [
      "dir\n",
      "D://python\\Day 1\n",
      "basics.ipynb\n",
      "dir\n",
      "D://python\\Day2\n",
      "flowcontrol.ipynb\n",
      "function.ipynb\n",
      "Inputoutput.ipynb\n",
      "looping.ipynb\n",
      "mod.py\n",
      "module.ipynb\n",
      "dir\n",
      "D://python\\Day3\n",
      "dict.ipynb\n",
      "lambda.ipynb\n",
      "list.ipynb\n",
      "set.ipynb\n",
      "tuple.ipynb\n",
      "dir\n",
      "D://python\\Day5\n",
      "dashboard.xls\n",
      "data.csv\n",
      "data.json\n",
      "expection.ipynb\n",
      "file.ipynb\n",
      "modeules_1.ipynb\n",
      "File\n",
      "dir\n",
      "D://python\\task1\n",
      "doc.ipynb\n",
      "doc.py\n",
      "func.ipynb\n",
      "gym.py\n",
      "mod.py\n",
      "__pycache__\n",
      "dir\n",
      "D://python\\TASK1-4-24\n",
      "array.ipynb\n",
      "task1.ipynb\n",
      "task2.ipynb\n",
      "dir\n",
      "D://python\\task2\n",
      "square.ipynb\n",
      "string.ipynb\n",
      "summation.ipynb\n",
      "dir\n",
      "D://python\\task2-4-24\n",
      "numpy.ipynb\n",
      "task1.ipynb\n",
      "task2.ipynb\n",
      "test.py\n",
      "Test1\n",
      "dir\n",
      "D://python\\TASK4\n",
      ".git\n",
      "bill.ipynb\n",
      "BU.txt\n",
      "content.txt\n",
      "file.ipynb\n",
      "Flow.ipynb\n",
      "function.ipynb\n",
      "hotel.py\n",
      "loop.ipynb\n",
      "manipulation.ipynb\n",
      "__pycache__\n",
      "dir\n",
      "D://python\\taskday1\n",
      "task1.ipynb\n",
      "dir\n",
      "D://python\\venv\n",
      "Include\n",
      "Lib\n",
      "pyvenv.cfg\n",
      "Scripts\n",
      "share\n"
     ]
    }
   ],
   "source": [
    "base=\"D://python\"\n",
    "for entry in os.listdir(base):\n",
    "    if os.path.isdir(os.path.join(base,entry)):\n",
    "        print(\"dir\")\n",
    "        b=os.path.join(base,entry)\n",
    "        print(b)\n",
    "        for e in os.listdir(b):\n",
    "            print(e)\n",
    "    elif os.path.isfile(os.path.join(base,entry)):\n",
    "        print(\"File\")\n",
    "    else:\n",
    "        print(\"Something Else\")"
   ]
  },
  {
   "cell_type": "code",
   "execution_count": 78,
   "metadata": {},
   "outputs": [
    {
     "name": "stdout",
     "output_type": "stream",
     "text": [
      "<DirEntry 'Day 1'>\n",
      "<DirEntry 'basics.ipynb'>\n",
      "<DirEntry 'Day2'>\n",
      "<DirEntry 'flowcontrol.ipynb'>\n",
      "<DirEntry 'function.ipynb'>\n",
      "<DirEntry 'Inputoutput.ipynb'>\n",
      "<DirEntry 'looping.ipynb'>\n",
      "<DirEntry 'mod.py'>\n",
      "<DirEntry 'module.ipynb'>\n",
      "<DirEntry 'Day3'>\n",
      "<DirEntry 'dict.ipynb'>\n",
      "<DirEntry 'lambda.ipynb'>\n",
      "<DirEntry 'list.ipynb'>\n",
      "<DirEntry 'set.ipynb'>\n",
      "<DirEntry 'tuple.ipynb'>\n",
      "<DirEntry 'Day5'>\n",
      "<DirEntry 'dashboard.xls'>\n",
      "<DirEntry 'data.csv'>\n",
      "<DirEntry 'data.json'>\n",
      "<DirEntry 'expection.ipynb'>\n",
      "<DirEntry 'file.ipynb'>\n",
      "<DirEntry 'modeules_1.ipynb'>\n",
      "<DirEntry 'task1'>\n",
      "<DirEntry 'doc.ipynb'>\n",
      "<DirEntry 'doc.py'>\n",
      "<DirEntry 'func.ipynb'>\n",
      "<DirEntry 'gym.py'>\n",
      "<DirEntry 'mod.py'>\n",
      "<DirEntry '__pycache__'>\n",
      "<DirEntry 'TASK1-4-24'>\n",
      "<DirEntry 'array.ipynb'>\n",
      "<DirEntry 'task1.ipynb'>\n",
      "<DirEntry 'task2.ipynb'>\n",
      "<DirEntry 'task2'>\n",
      "<DirEntry 'square.ipynb'>\n",
      "<DirEntry 'string.ipynb'>\n",
      "<DirEntry 'summation.ipynb'>\n",
      "<DirEntry 'task2-4-24'>\n",
      "<DirEntry 'numpy.ipynb'>\n",
      "<DirEntry 'task1.ipynb'>\n",
      "<DirEntry 'task2.ipynb'>\n",
      "<DirEntry 'test.py'>\n",
      "<DirEntry 'Test1'>\n",
      "<DirEntry 'TASK4'>\n",
      "<DirEntry '.git'>\n",
      "<DirEntry 'bill.ipynb'>\n",
      "<DirEntry 'BU.txt'>\n",
      "<DirEntry 'content.txt'>\n",
      "<DirEntry 'file.ipynb'>\n",
      "<DirEntry 'Flow.ipynb'>\n",
      "<DirEntry 'function.ipynb'>\n",
      "<DirEntry 'hotel.py'>\n",
      "<DirEntry 'loop.ipynb'>\n",
      "<DirEntry 'manipulation.ipynb'>\n",
      "<DirEntry '__pycache__'>\n",
      "<DirEntry 'taskday1'>\n",
      "<DirEntry 'task1.ipynb'>\n",
      "<DirEntry 'venv'>\n",
      "<DirEntry 'Include'>\n",
      "<DirEntry 'Lib'>\n",
      "<DirEntry 'pyvenv.cfg'>\n",
      "<DirEntry 'Scripts'>\n",
      "<DirEntry 'share'>\n"
     ]
    }
   ],
   "source": [
    "with os.scandir(\"D:/python\") as entry:\n",
    "    for e in entry:\n",
    "        if e.is_dir():\n",
    "            print(e)\n",
    "            with os.scandir(e) as entry:\n",
    "                for e in entry:\n",
    "                    print(e)\n",
    "       "
   ]
  },
  {
   "cell_type": "code",
   "execution_count": 79,
   "metadata": {},
   "outputs": [],
   "source": [
    "os.mkdir(\"D://Sample\")"
   ]
  },
  {
   "cell_type": "code",
   "execution_count": 90,
   "metadata": {},
   "outputs": [],
   "source": [
    "os.makedirs(\"D://Sample/test/day1\",0o770)"
   ]
  },
  {
   "cell_type": "code",
   "execution_count": 88,
   "metadata": {},
   "outputs": [],
   "source": [
    "l=[\"test3\",\"test12\"]\n",
    "for i in l:\n",
    "    os.mkdir(\"D://\"+i)"
   ]
  },
  {
   "cell_type": "code",
   "execution_count": 95,
   "metadata": {},
   "outputs": [
    {
     "name": "stdout",
     "output_type": "stream",
     "text": [
      "numpy.ipynb\n",
      "task1.ipynb\n",
      "task2.ipynb\n"
     ]
    },
    {
     "name": "stderr",
     "output_type": "stream",
     "text": [
      "<>:1: SyntaxWarning: invalid escape sequence '\\p'\n",
      "<>:1: SyntaxWarning: invalid escape sequence '\\p'\n",
      "C:\\Users\\sisni.b\\AppData\\Local\\Temp\\ipykernel_20304\\3657745758.py:1: SyntaxWarning: invalid escape sequence '\\p'\n",
      "  for entry in os.listdir(\"D:\\python\\TASK2-4-24\"):\n"
     ]
    }
   ],
   "source": [
    "for entry in os.listdir(\"D:\\python\\TASK2-4-24\"):\n",
    "    if entry.endswith('.ipynb'):\n",
    "        print(entry)"
   ]
  },
  {
   "cell_type": "code",
   "execution_count": null,
   "metadata": {},
   "outputs": [],
   "source": []
  }
 ],
 "metadata": {
  "kernelspec": {
   "display_name": "Python 3",
   "language": "python",
   "name": "python3"
  },
  "language_info": {
   "codemirror_mode": {
    "name": "ipython",
    "version": 3
   },
   "file_extension": ".py",
   "mimetype": "text/x-python",
   "name": "python",
   "nbconvert_exporter": "python",
   "pygments_lexer": "ipython3",
   "version": "3.12.0"
  }
 },
 "nbformat": 4,
 "nbformat_minor": 2
}
